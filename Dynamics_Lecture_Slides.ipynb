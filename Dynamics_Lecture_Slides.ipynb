{
 "cells": [
  {
   "cell_type": "markdown",
   "metadata": {
    "slideshow": {
     "slide_type": "slide"
    }
   },
   "source": [
    "# From multiple degree-of-freedom to distributed systems: linear strings and sound synthesis \n",
    "\n",
    "![](files/w.png)\n",
    "\n",
    "### Alberto Torin\n",
    "\n",
    "A.Torin@ed.ac.uk\n",
    "\n",
    "----\n",
    "\n",
    "![](files/AAG_Logo.jpg)"
   ]
  },
  {
   "cell_type": "code",
   "execution_count": 1,
   "metadata": {
    "collapsed": false,
    "slideshow": {
     "slide_type": "skip"
    }
   },
   "outputs": [],
   "source": [
    "% Test sound\n",
    "DT = 2;          % sound duration (in s)\n",
    "t = (0:DT*44100)/44100;\n",
    "y = sin(2*pi*t*440);\n",
    "soundsc(y , 44100 )"
   ]
  },
  {
   "cell_type": "code",
   "execution_count": 2,
   "metadata": {
    "collapsed": false,
    "slideshow": {
     "slide_type": "skip"
    }
   },
   "outputs": [
    {
     "data": {
      "text/html": [
       "<style>\n",
       "    .warning { color: black; \n",
       "    background-color: #ffcccc;\n",
       "    border-color: #ff0000;\n",
       "    border-left: 10px solid #ff0000;\n",
       "    padding: 0.5em;\n",
       "    }\n",
       "    \n",
       "    .red {color: red;}\n",
       "</style>"
      ],
      "text/plain": [
       "<IPython.core.display.HTML object>"
      ]
     },
     "metadata": {},
     "output_type": "display_data"
    }
   ],
   "source": [
    "%%html\n",
    "<style>\n",
    "    .warning { color: black; \n",
    "    background-color: #ffcccc;\n",
    "    border-color: #ff0000;\n",
    "    border-left: 10px solid #ff0000;\n",
    "    padding: 0.5em;\n",
    "    }\n",
    "    \n",
    "    .red {color: red;}\n",
    "</style>"
   ]
  },
  {
   "cell_type": "code",
   "execution_count": 3,
   "metadata": {
    "collapsed": false,
    "slideshow": {
     "slide_type": "skip"
    }
   },
   "outputs": [],
   "source": [
    "%plot -s 1000,400"
   ]
  },
  {
   "cell_type": "markdown",
   "metadata": {
    "slideshow": {
     "slide_type": "slide"
    }
   },
   "source": [
    "## Outline\n",
    "\n",
    "---\n",
    "#### Multiple degree-of-freedom systems\n",
    "- Equations of motion\n",
    "- Simple example\n",
    "- Normal modes and frequencies\n",
    "---\n",
    "#### Sound synthesis applications\n",
    "- Modal approach\n",
    "- Finite difference approach"
   ]
  },
  {
   "cell_type": "markdown",
   "metadata": {
    "slideshow": {
     "slide_type": "slide"
    }
   },
   "source": [
    "# Multiple degree-of-freedom systems"
   ]
  },
  {
   "cell_type": "markdown",
   "metadata": {
    "slideshow": {
     "slide_type": "slide"
    }
   },
   "source": [
    "## Mass-spring system with N DOFs\n",
    "\n",
    "![](files/w.png)\n",
    "Consider an array of $N$ masses connected by $N+1$ springs, as in the following figure.\n",
    "\n",
    "![](files/masses.png)\n",
    "\n",
    "We wish to calculate the equation of motion of the system and do some experiments with it."
   ]
  },
  {
   "cell_type": "markdown",
   "metadata": {
    "slideshow": {
     "slide_type": "slide"
    }
   },
   "source": [
    "## Deriving the equations of motion\n",
    "\n",
    "![](files/w.png)\n",
    "Elegant approach by __Prof. Gilbert Strang__, available online at this link:\n",
    "\n",
    "http://www.courses.com/massachusetts-institute-of-technology/computational-science-and-engineering-i/2"
   ]
  },
  {
   "cell_type": "markdown",
   "metadata": {
    "slideshow": {
     "slide_type": "subslide"
    }
   },
   "source": [
    "Start from the individual __positions of the masses__, link those to the __elongations of the springs__, which in turn give rise to __forces__ determined by Hooke's law. Then, relate these to the __total force__ acting on each mass and eventually to their __acceleration__. \n",
    "\n",
    "Here's a diagram:\n",
    "\n",
    "<div class=\"warning\">$$\\vec{u} \\rightarrow \\vec{e} \\rightarrow \\vec{f} \\rightarrow \\vec{F} \\rightarrow \\ddot{\\vec{u}}$$</div>\n",
    "\n",
    "Four steps, where each arrow is actually a matrix..."
   ]
  },
  {
   "cell_type": "markdown",
   "metadata": {
    "slideshow": {
     "slide_type": "subslide"
    }
   },
   "source": [
    "To start, consider 4 masses and 5 springs, but the argument can easily be generalised.\n",
    "\n",
    "![Array of 4 masses and 5 springs](files/4masses.png)"
   ]
  },
  {
   "cell_type": "markdown",
   "metadata": {},
   "source": [
    "$${\\vec{u} \\rightarrow \\vec{e}} \\rightarrow \\vec{f} \\rightarrow \\vec{F} \\rightarrow \\ddot{\\vec{u}}$$"
   ]
  },
  {
   "cell_type": "markdown",
   "metadata": {
    "slideshow": {
     "slide_type": "subslide"
    }
   },
   "source": [
    "### 1. Elongations of the springs, $\\vec{u} \\rightarrow \\vec{e}$\n",
    "\n",
    "![](files/masses_eu.png)\n",
    "\n",
    "- $e_1 = u_1$\n",
    "- $e_2 = u_2 - u_1$\n",
    "- $\\dots$\n",
    "- $e_5 = -u_4$"
   ]
  },
  {
   "cell_type": "markdown",
   "metadata": {
    "slideshow": {
     "slide_type": "subslide"
    }
   },
   "source": [
    "### 1. Elongations of the springs, $\\vec{u} \\rightarrow \\vec{e}$\n",
    "\n",
    "Putting everything in matrix form, one can write:\n",
    "\n",
    "$$ \\left[\\begin{array}{c} e_1\\\\ \n",
    "e_2 \\\\ \n",
    "e_3 \\\\\n",
    "e_4 \\\\\n",
    "e_5 \\end{array} \\right] =\n",
    "\\left[\\begin{array}{cccc} 1 & 0 & 0 & 0\\\\ \n",
    "-1 & 1 & 0 & 0 \\\\ \n",
    "0 & -1 & 1 & 0 \\\\\n",
    "0 & 0 & -1 & 1\\\\\n",
    "0 & 0 & 0 & -1\\end{array} \\right] \\left[\\begin{array}{c} u_1\\\\ \n",
    "u_2 \\\\ \n",
    "u_3 \\\\\n",
    "u_4 \\end{array} \\right] \\quad \\Longrightarrow \\quad \\vec{e} = A \\vec{u}, $$\n",
    "\n",
    "where the matrix $A$ is rectangular (5x4). "
   ]
  },
  {
   "cell_type": "markdown",
   "metadata": {
    "slideshow": {
     "slide_type": "subslide"
    }
   },
   "source": [
    "### 2. Hooke's law, $\\vec{e} \\rightarrow \\vec{f}$\n",
    "\n",
    "Relate the elongations to the forces acting on the masses using Hooke's law: for each elongation $e_j$, a recall force $f_j$ proportional to $e_j$ is generated. Mathematically, \n",
    "\n",
    "$$f_j = - k_j e_j, $$\n",
    "\n",
    "where $k_j$ is the stiffness constant of the $j$-th spring. "
   ]
  },
  {
   "cell_type": "markdown",
   "metadata": {
    "slideshow": {
     "slide_type": "subslide"
    }
   },
   "source": [
    "### 2. Hooke's law, $\\vec{e} \\rightarrow \\vec{f}$\n",
    "\n",
    "In matrix form, this becomes\n",
    "\n",
    "$$\\left[\\begin{array}{c} f_1\\\\ \n",
    "f_2 \\\\ \n",
    "f_3 \\\\\n",
    "f_4 \\\\\n",
    "f_5 \\end{array} \\right] = - \\left[\\begin{array}{ccccc}\n",
    "k_1 & 0 & 0 & 0 & 0 \\\\ \n",
    "0 & k_2 & 1 & 0 & 0 \\\\\n",
    "0 & 0 & k_3 & 0 & 0 \\\\\n",
    "0 & 0 & 0 & k_4 & 0 \\\\\n",
    "0 & 0 & 0 & 0 & k_5 \\\\\n",
    "\\end{array} \\right] \\left[\\begin{array}{c} e_1\\\\ \n",
    "e_2 \\\\ \n",
    "e_3 \\\\\n",
    "e_4 \\\\\n",
    "e_5 \\end{array} \\right] \\quad \\Longrightarrow \\quad \\vec{f} = -C\\, \\vec{e}\n",
    "$$\n",
    "\n",
    "where $C$ is the diagonal square matrix (5x5) of the stiffness coefficients. "
   ]
  },
  {
   "cell_type": "markdown",
   "metadata": {
    "slideshow": {
     "slide_type": "subslide"
    }
   },
   "source": [
    "### 3. Resultant force, $\\,\\vec{f} \\rightarrow \\vec{F}$\n",
    "\n",
    "![](files/masses_fF.png)\n",
    "\n",
    "Calculate the total forces by summing the vectors of the individual spring forces acting on each mass. \n",
    "\n",
    "- $F_1 = f_1 - f_2 $\n",
    "- $F_2 = f_2 - f_3 $\n",
    "- $\\dots$\n"
   ]
  },
  {
   "cell_type": "markdown",
   "metadata": {
    "slideshow": {
     "slide_type": "subslide"
    }
   },
   "source": [
    "### 3. Resultant force, $\\,\\vec{f} \\rightarrow \\vec{F}$\n",
    "\n",
    "You can easily see where this is going once we move to matrix notation:\n",
    "\n",
    "$$\\left[\\begin{array}{c} F_1\\\\ \n",
    "F_2 \\\\ \n",
    "F_3 \\\\\n",
    "F_4 \\end{array} \\right] = \\left[\\begin{array}{ccccc} 1 & -1 & 0 & 0 & 0\\\\ \n",
    "0 & 1 & -1 & 0 & 0 \\\\ \n",
    "0 & 0 & 1 & -1 & 0 \\\\\n",
    "0 & 0 & 0 & 1 & -1 \\end{array} \\right] \\, \\left[\\begin{array}{c} f_1\\\\ \n",
    "f_2 \\\\ \n",
    "f_3 \\\\\n",
    "f_4 \\\\\n",
    "f_5 \\end{array} \\right] \\quad \\Longrightarrow \\quad \\vec{F}= A^T \\vec{f} .$$\n",
    "\n",
    "The interesting fact here is that the matrix we obtain is exactly the transpose of the elongation matrix $A$!"
   ]
  },
  {
   "cell_type": "markdown",
   "metadata": {
    "slideshow": {
     "slide_type": "subslide"
    }
   },
   "source": [
    "### 4. Newton's law,  $\\,\\vec{F} \\rightarrow \\ddot{\\vec{u}}$\n",
    "\n",
    "Each resultant force $F_j$ can be related to the acceleration $\\ddot{u}_j$ of the $j$-th mass via Newton's second law,\n",
    "\n",
    "$$F_j = m_j \\ddot{u}_j. $$"
   ]
  },
  {
   "cell_type": "markdown",
   "metadata": {
    "slideshow": {
     "slide_type": "subslide"
    }
   },
   "source": [
    "### 4. Newton's law,  $\\,\\vec{F} \\rightarrow \\ddot{\\vec{u}}$\n",
    "\n",
    "In matrix form\n",
    "\n",
    "$$ \\left[\\begin{array}{c} F_1\\\\ \n",
    "F_2 \\\\ \n",
    "F_3 \\\\\n",
    "F_4 \\end{array} \\right] = \\left[\\begin{array}{cccc}\n",
    "m_1 & 0 & 0 & 0 \\\\ \n",
    "0 & m_2 & 1 & 0 \\\\\n",
    "0 & 0 & m_3 & 0 \\\\\n",
    "0 & 0 & 0 & m_4\n",
    "\\end{array} \\right] \\left[\\begin{array}{c} \\ddot{u}_1\\\\ \n",
    "\\ddot{u}_2 \\\\ \n",
    "\\ddot{u}_3 \\\\\n",
    "\\ddot{u}_4 \\end{array} \\right] \\quad \\Longrightarrow \\quad \\vec{F} = M \\ddot{\\vec{u}}. $$"
   ]
  },
  {
   "cell_type": "markdown",
   "metadata": {
    "slideshow": {
     "slide_type": "subslide"
    }
   },
   "source": [
    "### Putting it all together, ${\\vec{u} \\rightarrow \\vec{e}} \\rightarrow \\vec{f} \\rightarrow \\vec{F} \\rightarrow \\ddot{\\vec{u}}$\n",
    "\n",
    "Combine all the previous steps backwards to get the equations of motion: \n",
    "\n",
    "$$M \\ddot{\\vec{u}} = \\vec{F} = A^T \\vec{f} = -A^T C \\, \\vec{e} = -A^T C\\, A\\, \\vec{u} .$$\n",
    "\n",
    "We can rewrite this in a more familiar form as\n",
    "\n",
    "<div class='warning'>$$ M \\ddot{\\vec{u}} = -K \\vec{u}, \\qquad K \\equiv A^T C A .$$</div>"
   ]
  },
  {
   "cell_type": "markdown",
   "metadata": {
    "slideshow": {
     "slide_type": "slide"
    }
   },
   "source": [
    "## A simple example\n",
    "\n",
    "![](files/w.png)\n",
    "Suppose now that all the masses are equal as well as all springs. The above equation simplifies to\n",
    "\n",
    "$$ \\ddot{\\vec{u}} = -\\omega^2 A^T A \\vec{u}, \\qquad \\omega^2 = k/m .$$\n",
    "\n",
    "So, accelerations and positions are related by the symmetric matrix $A^T A$... but how does this matrix look like?"
   ]
  },
  {
   "cell_type": "markdown",
   "metadata": {
    "slideshow": {
     "slide_type": "subslide"
    }
   },
   "source": [
    "### $A$ and $A^T$"
   ]
  },
  {
   "cell_type": "markdown",
   "metadata": {
    "slideshow": {
     "slide_type": "-"
    }
   },
   "source": [
    "\n",
    "$$ A = \\left[\\begin{array}{cccc} 1 & 0 & 0 & 0\\\\ \n",
    "-1 & 1 & 0 & 0 \\\\ \n",
    "0 & -1 & 1 & 0 \\\\\n",
    "0 & 0 & -1 & 1\\\\\n",
    "0 & 0 & 0 & -1\\end{array} \\right], \\quad\n",
    "A^T = \\left[\\begin{array}{ccccc} 1 & -1 & 0 & 0 & 0\\\\ \n",
    "0 & 1 & -1 & 0 & 0 \\\\ \n",
    "0 & 0 & 1 & -1 & 0 \\\\\n",
    "0 & 0 & 0 & 1 & -1 \\end{array} \\right] $$"
   ]
  },
  {
   "cell_type": "markdown",
   "metadata": {
    "slideshow": {
     "slide_type": "subslide"
    }
   },
   "source": [
    "### Let's do the math in Matlab"
   ]
  },
  {
   "cell_type": "code",
   "execution_count": 4,
   "metadata": {
    "collapsed": false,
    "slideshow": {
     "slide_type": "-"
    }
   },
   "outputs": [
    {
     "data": {
      "text/plain": [
       "A =\n",
       "\n",
       "     1     0     0     0\n",
       "    -1     1     0     0\n",
       "     0    -1     1     0\n",
       "     0     0    -1     1\n",
       "     0     0     0    -1"
      ]
     },
     "execution_count": 4,
     "metadata": {},
     "output_type": "execute_result"
    }
   ],
   "source": [
    "A = [1 0 0 0; -1 1 0 0; 0 -1 1 0; 0 0 -1 1; 0 0 0 -1]"
   ]
  },
  {
   "cell_type": "code",
   "execution_count": 5,
   "metadata": {
    "collapsed": false,
    "slideshow": {
     "slide_type": "fragment"
    }
   },
   "outputs": [
    {
     "data": {
      "text/plain": [
       "AT =\n",
       "\n",
       "     1    -1     0     0     0\n",
       "     0     1    -1     0     0\n",
       "     0     0     1    -1     0\n",
       "     0     0     0     1    -1"
      ]
     },
     "execution_count": 5,
     "metadata": {},
     "output_type": "execute_result"
    }
   ],
   "source": [
    "AT = A'"
   ]
  },
  {
   "cell_type": "code",
   "execution_count": 6,
   "metadata": {
    "collapsed": false,
    "slideshow": {
     "slide_type": "subslide"
    }
   },
   "outputs": [
    {
     "data": {
      "text/plain": [
       "D =\n",
       "\n",
       "     2    -1     0     0\n",
       "    -1     2    -1     0\n",
       "     0    -1     2    -1\n",
       "     0     0    -1     2"
      ]
     },
     "execution_count": 6,
     "metadata": {},
     "output_type": "execute_result"
    }
   ],
   "source": [
    "D = AT * A"
   ]
  },
  {
   "cell_type": "markdown",
   "metadata": {
    "slideshow": {
     "slide_type": "subslide"
    }
   },
   "source": [
    "The product of the two matrices $A^T A$ is:\n",
    "\n",
    "$$ D = \\left[\\begin{array}{cccc} 2 & -1 & 0 & 0\\\\ \n",
    "-1 & 2 & -1 & 0 \\\\ \n",
    "0 & -1 & 2 & -1 \\\\\n",
    "0 & 0 & -1 & 2 \\end{array} \\right]$$\n",
    "\n",
    "The matrix $D$, or better its negative version, is particularly important in finite difference applications, as we will see shortly. For the moment, let's investigate the <span class=\"red\">eigenvalues and eigenvectors</span>."
   ]
  },
  {
   "cell_type": "markdown",
   "metadata": {
    "slideshow": {
     "slide_type": "slide"
    }
   },
   "source": [
    "## Eigenvalues and eigenvectors\n",
    "\n",
    "![](files/w.png)\n",
    "Suppose we know that a solution of $\\ddot{\\vec{u}} = -\\omega^2 D \\vec{u}$ can be written in this form:\n",
    "\n",
    "$$ \\vec{u}(t) = \\vec{U} \\sin(\\Omega t + \\phi),$$\n",
    "\n",
    "where $\\vec{U}$ is some constant vector, $\\Omega$ a non-negative frequency and $\\phi$ the phase. "
   ]
  },
  {
   "cell_type": "markdown",
   "metadata": {
    "slideshow": {
     "slide_type": "subslide"
    }
   },
   "source": [
    "Then, the differential equation becomes an eigenvector problem, \n",
    "\n",
    "<div class=\"warning\">$$\\Omega^2 \\vec{U} = \\omega^2 D \\vec{U}.$$ </div>"
   ]
  },
  {
   "cell_type": "markdown",
   "metadata": {
    "slideshow": {
     "slide_type": "subslide"
    }
   },
   "source": [
    "### Do the calculations in Matlab"
   ]
  },
  {
   "cell_type": "code",
   "execution_count": 7,
   "metadata": {
    "collapsed": false,
    "slideshow": {
     "slide_type": "-"
    }
   },
   "outputs": [
    {
     "data": {
      "text/plain": [
       "V =\n",
       "\n",
       "    0.3717   -0.6015   -0.6015   -0.3717\n",
       "    0.6015   -0.3717    0.3717    0.6015\n",
       "    0.6015    0.3717    0.3717   -0.6015\n",
       "    0.3717    0.6015   -0.6015    0.3717\n",
       "\n",
       "\n",
       "E =\n",
       "\n",
       "    0.3820         0         0         0\n",
       "         0    1.3820         0         0\n",
       "         0         0    2.6180         0\n",
       "         0         0         0    3.6180"
      ]
     },
     "execution_count": 7,
     "metadata": {},
     "output_type": "execute_result"
    }
   ],
   "source": [
    "[V,E] = eig(D)"
   ]
  },
  {
   "cell_type": "markdown",
   "metadata": {
    "slideshow": {
     "slide_type": "subslide"
    }
   },
   "source": [
    "### Add extra immobile masses at the ends\n",
    "\n",
    "Imagine that we have two extra masses, $m_0$ and $m_5$, at the two ends of the system, held fixed by some invisible agent. \n",
    "\n",
    "These correspond to the boundary conditions that we are implicitly applying to the array of masses.\n",
    "\n",
    "![](files/fixed_masses.png)"
   ]
  },
  {
   "cell_type": "code",
   "execution_count": 8,
   "metadata": {
    "collapsed": false,
    "slideshow": {
     "slide_type": "subslide"
    }
   },
   "outputs": [
    {
     "data": {
      "text/plain": [
       "V =\n",
       "\n",
       "         0         0         0         0\n",
       "    0.3717   -0.6015   -0.6015   -0.3717\n",
       "    0.6015   -0.3717    0.3717    0.6015\n",
       "    0.6015    0.3717    0.3717   -0.6015\n",
       "    0.3717    0.6015   -0.6015    0.3717\n",
       "         0         0         0         0"
      ]
     },
     "execution_count": 8,
     "metadata": {},
     "output_type": "execute_result"
    }
   ],
   "source": [
    "V = [zeros(1,4); V; zeros(1,4)]"
   ]
  },
  {
   "cell_type": "markdown",
   "metadata": {
    "slideshow": {
     "slide_type": "slide"
    }
   },
   "source": [
    "## Plot the modal shapes"
   ]
  },
  {
   "cell_type": "code",
   "execution_count": 9,
   "metadata": {
    "collapsed": false,
    "slideshow": {
     "slide_type": "subslide"
    }
   },
   "outputs": [
    {
     "data": {
      "image/png": "[encoded data removed]",
      "text/plain": [
       "<IPython.core.display.Image object>"
      ]
     },
     "metadata": {},
     "output_type": "display_data"
    }
   ],
   "source": [
    "for II=1:4\n",
    "subplot(2,2,II)\n",
    "plot(0:5, V(:,II), '.k', 'markersize', 22)\n",
    "title(['Mode n. ', num2str(II, '%d')])\n",
    "xlim([0, 5])\n",
    "end"
   ]
  },
  {
   "cell_type": "markdown",
   "metadata": {
    "slideshow": {
     "slide_type": "subslide"
    }
   },
   "source": [
    "The modes of this system look suspiciously similar to those of a linear string... Let's see what happens when we increase the number of masses.\n",
    "\n",
    "First, however, we need a way to generalise the creation of the matrix $D$ to $N$ masses..."
   ]
  },
  {
   "cell_type": "markdown",
   "metadata": {
    "slideshow": {
     "slide_type": "subslide"
    }
   },
   "source": [
    "### Matlab function that creates $D$"
   ]
  },
  {
   "cell_type": "code",
   "execution_count": 10,
   "metadata": {
    "collapsed": false,
    "slideshow": {
     "slide_type": "-"
    }
   },
   "outputs": [
    {
     "data": {
      "text/plain": [
       "createTridiag = \n",
       "\n",
       "    @(N)(full(spdiags([-ones(N,1),2*ones(N,1),-ones(N,1)],-1:1,N,N)))"
      ]
     },
     "execution_count": 10,
     "metadata": {},
     "output_type": "execute_result"
    }
   ],
   "source": [
    "createTridiag = @(N)(full(spdiags(...\n",
    "        [-ones(N,1), 2*ones(N,1), -ones(N,1)], -1:1, N, N)))"
   ]
  },
  {
   "cell_type": "markdown",
   "metadata": {
    "slideshow": {
     "slide_type": "subslide"
    }
   },
   "source": [
    "### Test with N=10"
   ]
  },
  {
   "cell_type": "code",
   "execution_count": 11,
   "metadata": {
    "collapsed": false,
    "slideshow": {
     "slide_type": "-"
    }
   },
   "outputs": [
    {
     "data": {
      "text/plain": [
       "D10 =\n",
       "\n",
       "     2    -1     0     0     0     0     0     0     0     0\n",
       "    -1     2    -1     0     0     0     0     0     0     0\n",
       "     0    -1     2    -1     0     0     0     0     0     0\n",
       "     0     0    -1     2    -1     0     0     0     0     0\n",
       "     0     0     0    -1     2    -1     0     0     0     0\n",
       "     0     0     0     0    -1     2    -1     0     0     0\n",
       "     0     0     0     0     0    -1     2    -1     0     0\n",
       "     0     0     0     0     0     0    -1     2    -1     0\n",
       "     0     0     0     0     0     0     0    -1     2    -1\n",
       "     0     0     0     0     0     0     0     0    -1     2"
      ]
     },
     "execution_count": 11,
     "metadata": {},
     "output_type": "execute_result"
    }
   ],
   "source": [
    "N = 10;\n",
    "D10 = createTridiag(N)"
   ]
  },
  {
   "cell_type": "markdown",
   "metadata": {
    "slideshow": {
     "slide_type": "slide"
    }
   },
   "source": [
    "### Array with 10 DOFs\n",
    "\n",
    "Create the eigenvectors and add the fixed masses."
   ]
  },
  {
   "cell_type": "code",
   "execution_count": 12,
   "metadata": {
    "collapsed": false
   },
   "outputs": [],
   "source": [
    "[V10,E10] = eig(D10);\n",
    "V10 = [zeros(1,N); V10; zeros(1,N)];"
   ]
  },
  {
   "cell_type": "markdown",
   "metadata": {
    "slideshow": {
     "slide_type": "fragment"
    }
   },
   "source": [
    "... then plot the modes!"
   ]
  },
  {
   "cell_type": "code",
   "execution_count": 13,
   "metadata": {
    "collapsed": false,
    "slideshow": {
     "slide_type": "subslide"
    }
   },
   "outputs": [
    {
     "data": {
      "image/png": "[encoded data removed]",
      "text/plain": [
       "<IPython.core.display.Image object>"
      ]
     },
     "metadata": {},
     "output_type": "display_data"
    }
   ],
   "source": [
    "for II=1:4\n",
    "subplot(2,2,II)\n",
    "plot(0:N+1, V10(:,II), '.k', 'markersize', 22)\n",
    "title(['Mode n. ', num2str(II, '%d')])\n",
    "xlim([0, N+1])\n",
    "end"
   ]
  },
  {
   "cell_type": "markdown",
   "metadata": {
    "slideshow": {
     "slide_type": "slide"
    }
   },
   "source": [
    "### Array with 50 DOFs\n",
    "\n",
    "Again, create the matrix $D$, calculate the eigenvectors and add the fixed masses."
   ]
  },
  {
   "cell_type": "code",
   "execution_count": 14,
   "metadata": {
    "collapsed": true
   },
   "outputs": [],
   "source": [
    "N = 50;\n",
    "D50 = createTridiag(N);\n",
    "[V50,E50] = eig(D50);\n",
    "V50 = [zeros(1,N); V50; zeros(1,N)];"
   ]
  },
  {
   "cell_type": "markdown",
   "metadata": {
    "slideshow": {
     "slide_type": "fragment"
    }
   },
   "source": [
    "... then plot the modes!"
   ]
  },
  {
   "cell_type": "code",
   "execution_count": 15,
   "metadata": {
    "collapsed": false,
    "slideshow": {
     "slide_type": "subslide"
    }
   },
   "outputs": [
    {
     "data": {
      "image/png": "[encoded data removed]",
      "text/plain": [
       "<IPython.core.display.Image object>"
      ]
     },
     "metadata": {},
     "output_type": "display_data"
    }
   ],
   "source": [
    "for II=1:4\n",
    "subplot(2,2,II)\n",
    "plot(0:N+1, V50(:,II), '.k', 'markersize', 20)\n",
    "title(['Mode n. ', num2str(II, '%d')])\n",
    "xlim([0, N+1])\n",
    "end"
   ]
  },
  {
   "cell_type": "markdown",
   "metadata": {
    "slideshow": {
     "slide_type": "slide"
    }
   },
   "source": [
    "## Results\n",
    "\n",
    "![](files/w.png)\n",
    "The modal shapes are sinusoids with a period that is an integer multiple of $L/2$, where $L$ is the string length.\n",
    "\n",
    "\n",
    "![](files/w.png)\n",
    "### These are the modes of a linear string!\n",
    "----\n",
    "\n",
    "_Confirm this by math calculation..._\n",
    "\n",
    "See http://www.physics.usu.edu/riffe/3750/lecture_notes.htm, Lecture 5, for some help!"
   ]
  },
  {
   "cell_type": "markdown",
   "metadata": {
    "slideshow": {
     "slide_type": "subslide"
    }
   },
   "source": [
    "### Important comment\n",
    "\n",
    "\n",
    "For a string, the vibration is transverse to the length of the string. In the case of the mass-spring system, the vibrations are along the chain of oscillators, as the next videos show."
   ]
  },
  {
   "cell_type": "code",
   "execution_count": 16,
   "metadata": {
    "collapsed": false,
    "scrolled": true,
    "slideshow": {
     "slide_type": "subslide"
    }
   },
   "outputs": [
    {
     "data": {
      "text/html": [
       "<video style=\"display:block; margin: 0 auto;\" width=\"1000\" height=\"300\" controls loop>\n",
       "  <source src=\"files/N15_mode1.mp4\" type=\"video/mp4\">\n",
       "</video>"
      ],
      "text/plain": [
       "<IPython.core.display.HTML object>"
      ]
     },
     "metadata": {},
     "output_type": "display_data"
    }
   ],
   "source": [
    "%%html\n",
    "<video style=\"display:block; margin: 0 auto;\" width=\"1000\" height=\"300\" controls loop>\n",
    "  <source src=\"files/N15_mode1.mp4\" type=\"video/mp4\">\n",
    "</video>"
   ]
  },
  {
   "cell_type": "code",
   "execution_count": 17,
   "metadata": {
    "collapsed": false,
    "slideshow": {
     "slide_type": "subslide"
    }
   },
   "outputs": [
    {
     "data": {
      "text/html": [
       "<video style=\"display:block; margin: 0 auto;\" width=\"1000\" height=\"300\" controls loop>\n",
       "  <source src=\"files/N15_mode2.mp4\" type=\"video/mp4\">\n",
       "</video>"
      ],
      "text/plain": [
       "<IPython.core.display.HTML object>"
      ]
     },
     "metadata": {},
     "output_type": "display_data"
    }
   ],
   "source": [
    "%%html\n",
    "<video style=\"display:block; margin: 0 auto;\" width=\"1000\" height=\"300\" controls loop>\n",
    "  <source src=\"files/N15_mode2.mp4\" type=\"video/mp4\">\n",
    "</video>"
   ]
  },
  {
   "cell_type": "code",
   "execution_count": 18,
   "metadata": {
    "collapsed": false,
    "slideshow": {
     "slide_type": "subslide"
    }
   },
   "outputs": [
    {
     "data": {
      "text/html": [
       "<video style=\"display:block; margin: 0 auto;\" width=\"1000\" height=\"300\" controls loop>\n",
       "  <source src=\"files/N15_mode3.mp4\" type=\"video/mp4\">\n",
       "</video>"
      ],
      "text/plain": [
       "<IPython.core.display.HTML object>"
      ]
     },
     "metadata": {},
     "output_type": "display_data"
    }
   ],
   "source": [
    "%%html\n",
    "<video style=\"display:block; margin: 0 auto;\" width=\"1000\" height=\"300\" controls loop>\n",
    "  <source src=\"files/N15_mode3.mp4\" type=\"video/mp4\">\n",
    "</video>"
   ]
  },
  {
   "cell_type": "code",
   "execution_count": 19,
   "metadata": {
    "collapsed": false,
    "slideshow": {
     "slide_type": "subslide"
    }
   },
   "outputs": [
    {
     "data": {
      "text/html": [
       "<video style=\"display:block; margin: 0 auto;\" width=\"1000\" height=\"300\" controls loop>\n",
       "  <source src=\"files/N15_mode4.mp4\" type=\"video/mp4\">\n",
       "</video>"
      ],
      "text/plain": [
       "<IPython.core.display.HTML object>"
      ]
     },
     "metadata": {},
     "output_type": "display_data"
    }
   ],
   "source": [
    "%%html\n",
    "<video style=\"display:block; margin: 0 auto;\" width=\"1000\" height=\"300\" controls loop>\n",
    "  <source src=\"files/N15_mode4.mp4\" type=\"video/mp4\">\n",
    "</video>"
   ]
  },
  {
   "cell_type": "markdown",
   "metadata": {
    "slideshow": {
     "slide_type": "slide"
    }
   },
   "source": [
    "## Frequencies of vibration\n",
    "\n",
    "![](files/w.png)\n",
    "From the eigenvalue equation $\\, \\Omega^2 \\vec{U} = \\omega^2 D \\vec{U}, \\,$ the frequencies are given by\n",
    "\n",
    "<div class=\"warning\">$$\\frac{\\Omega}{2\\pi} = \\frac{\\omega}{2\\pi} \\sqrt{\\text{eig}(D)}.$$ </div>\n"
   ]
  },
  {
   "cell_type": "markdown",
   "metadata": {
    "slideshow": {
     "slide_type": "fragment"
    }
   },
   "source": [
    "#### Frequencies of a string\n",
    "\n",
    "They are integer multiples of the frequency of the first mode... think of a guitar string!"
   ]
  },
  {
   "cell_type": "markdown",
   "metadata": {
    "slideshow": {
     "slide_type": "subslide"
    }
   },
   "source": [
    "#### Find eigenvalues for N=30 and N=50"
   ]
  },
  {
   "cell_type": "code",
   "execution_count": 20,
   "metadata": {
    "collapsed": true,
    "slideshow": {
     "slide_type": "-"
    }
   },
   "outputs": [],
   "source": [
    "[V30, E30] = eig(createTridiag(30));\n",
    "[V50, E50] = eig(createTridiag(50));"
   ]
  },
  {
   "cell_type": "markdown",
   "metadata": {
    "slideshow": {
     "slide_type": "fragment"
    }
   },
   "source": [
    "#### ... then normalise and sqrt"
   ]
  },
  {
   "cell_type": "code",
   "execution_count": 21,
   "metadata": {
    "collapsed": true
   },
   "outputs": [],
   "source": [
    "ev30 = diag(E30); ev50 = diag(E50);\n",
    "y30 = sqrt(ev30/ev30(1)); y50 = sqrt(ev50/ev50(1));"
   ]
  },
  {
   "cell_type": "code",
   "execution_count": 22,
   "metadata": {
    "collapsed": false,
    "slideshow": {
     "slide_type": "subslide"
    }
   },
   "outputs": [
    {
     "data": {
      "image/png": "[encoded data removed]",
      "text/plain": [
       "<IPython.core.display.Image object>"
      ]
     },
     "metadata": {},
     "output_type": "display_data"
    }
   ],
   "source": [
    "subplot(1,2,1), plot(y30,'.','markersize',20), hold on\n",
    "plot(y50,'.','markersize',20), plot(1:50, 'k'), xlim([0, 50]), hold off\n",
    "ylabel('\\Omega/\\Omega_1'), xlabel('Mode')\n",
    "legend('N=30', 'N=50', 'String', 'location', 'best')\n",
    "subplot(1,2,2), plot(y30,'.','markersize',20), hold on\n",
    "plot(y50,'.','markersize',20), plot(1:50, 'k'), xlim([0, 15]), hold off\n",
    "xlabel('Mode'), legend('N=30', 'N=50', 'String', 'location', 'best')"
   ]
  },
  {
   "cell_type": "markdown",
   "metadata": {},
   "source": [
    "$$\\Omega = \\omega \\sqrt{\\text{eig}(D)}, \\qquad \\Omega_1 = \\text{ fundamental}$$"
   ]
  },
  {
   "cell_type": "markdown",
   "metadata": {
    "slideshow": {
     "slide_type": "slide"
    }
   },
   "source": [
    "## Key points\n",
    "\n",
    "- Modal shapes are the same as those of a string (sinusoidal shapes)\n",
    "\n",
    "- Frequencies of the oscillator system are \"detuned\" w.r.t. those of a string (difference dispersion relation)\n"
   ]
  },
  {
   "cell_type": "markdown",
   "metadata": {
    "slideshow": {
     "slide_type": "slide"
    }
   },
   "source": [
    "# Sound synthesis applications"
   ]
  },
  {
   "cell_type": "markdown",
   "metadata": {
    "slideshow": {
     "slide_type": "slide"
    }
   },
   "source": [
    "## Sound synthesis\n",
    "- Diverse range of techniques (especially digital) to create sounds\n",
    "    - Additive synthesis, Wavetable synthesis, AM and FM synthesis, etc.\n",
    "    - Physical modelling"
   ]
  },
  {
   "cell_type": "markdown",
   "metadata": {
    "slideshow": {
     "slide_type": "subslide"
    }
   },
   "source": [
    "### Physical modelling\n",
    "- Physical description of the instrument underlying the numerical algorithm\n",
    "    - Lumped mass-spring networks (CORDIS-ANIMA by Cadoz et al.)\n",
    "    - Modal synthesis (MOSAIC-Modalys at IRCAM, Paris)\n",
    "    - Digital waveguides (J. Smith III, Stanford)\n",
    "    - Time stepping methods"
   ]
  },
  {
   "cell_type": "markdown",
   "metadata": {
    "slideshow": {
     "slide_type": "slide"
    }
   },
   "source": [
    "## Modal approach"
   ]
  },
  {
   "cell_type": "markdown",
   "metadata": {
    "slideshow": {
     "slide_type": "slide"
    }
   },
   "source": [
    "### Back to the mass-spring system"
   ]
  },
  {
   "cell_type": "markdown",
   "metadata": {
    "slideshow": {
     "slide_type": "-"
    }
   },
   "source": [
    "The global solution to the equations of motion can be written as a linear combination of the solutions to the $N$ eigenvalue problems for the system. \n",
    "\n",
    "$$ \\vec{u}(t) = \\sum_1^N A_j \\, \\vec{U_j} \\, sin(\\Omega_j t + \\phi_j)  $$ \n",
    "\n",
    "It requires, therefore, $N$ amplitudes and $N$ phases to be specified, one for each of the $N$ eigenmodes for the system. "
   ]
  },
  {
   "cell_type": "markdown",
   "metadata": {
    "slideshow": {
     "slide_type": "subslide"
    }
   },
   "source": [
    "#### Create the eigenmodes"
   ]
  },
  {
   "cell_type": "code",
   "execution_count": 23,
   "metadata": {
    "collapsed": true
   },
   "outputs": [],
   "source": [
    "[V50, E50] = eig(createTridiag(50));\n",
    "V50 = [zeros(1,50); V50; zeros(1,50) ];"
   ]
  },
  {
   "cell_type": "code",
   "execution_count": 24,
   "metadata": {
    "collapsed": false,
    "slideshow": {
     "slide_type": "subslide"
    }
   },
   "outputs": [
    {
     "data": {
      "image/png": "[encoded data removed]",
      "text/plain": [
       "<IPython.core.display.Image object>"
      ]
     },
     "metadata": {},
     "output_type": "display_data"
    }
   ],
   "source": [
    "plot(V50(:,1), 0:N+1, 'k.', 'markersize', 20), \n",
    "hold on, plot(V50(20,1), 19, 'r.', 'markersize', 25)\n",
    "plot(V50(:,2)+0.5, 0:N+1, 'k.', 'markersize', 20), plot(V50(20,2)+0.5, 19, 'r.', 'markersize', 25)\n",
    "plot(V50(:,3)+1, 0:N+1, 'k.', 'markersize', 20), plot(V50(20,3)+1, 19, 'r.', 'markersize', 25)\n",
    "plot(V50(:,4)+1.5, 0:N+1, 'k.', 'markersize', 20), plot(V50(20,4)+1.5, 19, 'r.', 'markersize', 25)\n",
    "plot([-0.3, 1.8], [19, 19], 'r')\n",
    "axis off"
   ]
  },
  {
   "cell_type": "markdown",
   "metadata": {
    "slideshow": {
     "slide_type": "subslide"
    }
   },
   "source": [
    "### Sound in Matlab"
   ]
  },
  {
   "cell_type": "code",
   "execution_count": 59,
   "metadata": {
    "collapsed": false,
    "slideshow": {
     "slide_type": "-"
    }
   },
   "outputs": [],
   "source": [
    "DT = 2;          % sound duration (in s)\n",
    "t = (0:DT*44100)/44100;\n",
    "y = sin(2*pi*t*440) + sin(2*pi*t*660);\n",
    "soundsc(y , 44100 )"
   ]
  },
  {
   "cell_type": "markdown",
   "metadata": {
    "slideshow": {
     "slide_type": "subslide"
    }
   },
   "source": [
    "### How does the mass-spring system sound like?"
   ]
  },
  {
   "cell_type": "markdown",
   "metadata": {
    "slideshow": {
     "slide_type": "subslide"
    }
   },
   "source": [
    "#### Create system matrix $D$ and find the e.values"
   ]
  },
  {
   "cell_type": "code",
   "execution_count": 54,
   "metadata": {
    "collapsed": false
   },
   "outputs": [],
   "source": [
    "[V50,E50] = eig(createTridiag(50));\n",
    "ev50 = sqrt(diag(E50));"
   ]
  },
  {
   "cell_type": "markdown",
   "metadata": {
    "slideshow": {
     "slide_type": "subslide"
    }
   },
   "source": [
    "#### Define $\\omega$, amplitudes and phases"
   ]
  },
  {
   "cell_type": "code",
   "execution_count": 55,
   "metadata": {
    "collapsed": false,
    "slideshow": {
     "slide_type": "-"
    }
   },
   "outputs": [],
   "source": [
    "omega = 2*pi*440;\n",
    "A = rand(50,1);\n",
    "%A = (50:-1:1)'/50;\n",
    "%A = (((1:50)-25).^2/25^2)';\n",
    "phi = zeros(50,1);"
   ]
  },
  {
   "cell_type": "code",
   "execution_count": 56,
   "metadata": {
    "collapsed": false,
    "slideshow": {
     "slide_type": "subslide"
    }
   },
   "outputs": [
    {
     "data": {
      "image/png": "[encoded data removed]",
      "text/plain": [
       "<IPython.core.display.Image object>"
      ]
     },
     "metadata": {},
     "output_type": "display_data"
    }
   ],
   "source": [
    "plot(A, '.', 'markersize', 20)\n",
    "title('Amplitudes for the various modes')"
   ]
  },
  {
   "cell_type": "markdown",
   "metadata": {
    "slideshow": {
     "slide_type": "subslide"
    }
   },
   "source": [
    "#### Select a point and create the oscillators"
   ]
  },
  {
   "cell_type": "code",
   "execution_count": 29,
   "metadata": {
    "collapsed": true
   },
   "outputs": [],
   "source": [
    "pt = 23;"
   ]
  },
  {
   "cell_type": "markdown",
   "metadata": {
    "slideshow": {
     "slide_type": "fragment"
    }
   },
   "source": [
    "#### Create amplitudes for each point and individual sounds"
   ]
  },
  {
   "cell_type": "code",
   "execution_count": 60,
   "metadata": {
    "collapsed": true,
    "slideshow": {
     "slide_type": "-"
    }
   },
   "outputs": [],
   "source": [
    "% Create the argument of sine function\n",
    "T = kron(omega*ev50, t) + kron(phi, ones(numel(t),1)');\n",
    " \n",
    "Amps = V50(pt, :)'.*A;\n",
    "snd = sparse(diag(Amps)) * sin(T); "
   ]
  },
  {
   "cell_type": "code",
   "execution_count": 61,
   "metadata": {
    "collapsed": false,
    "slideshow": {
     "slide_type": "subslide"
    }
   },
   "outputs": [
    {
     "data": {
      "image/png": "[encoded data removed]",
      "text/plain": [
       "<IPython.core.display.Image object>"
      ]
     },
     "metadata": {},
     "output_type": "display_data"
    }
   ],
   "source": [
    "plot(snd(1,1:2000))\n",
    "hold on, plot(snd(2,1:2000))\n",
    "plot(snd(3,1:2000)), plot(snd(4,1:2000))\n",
    "legend('1','2','3','4')\n",
    "title('Oscillation of the first four modes')\n",
    "hold off"
   ]
  },
  {
   "cell_type": "markdown",
   "metadata": {
    "slideshow": {
     "slide_type": "subslide"
    }
   },
   "source": [
    "### Plot the final signal"
   ]
  },
  {
   "cell_type": "code",
   "execution_count": 62,
   "metadata": {
    "collapsed": false,
    "slideshow": {
     "slide_type": "-"
    }
   },
   "outputs": [
    {
     "data": {
      "image/png": "[encoded data removed]",
      "text/plain": [
       "<IPython.core.display.Image object>"
      ]
     },
     "metadata": {},
     "output_type": "display_data"
    }
   ],
   "source": [
    "plot(snd(1,1:2000) + snd(2,1:2000) + snd(3,1:2000) + snd(4,1:2000))"
   ]
  },
  {
   "cell_type": "markdown",
   "metadata": {
    "slideshow": {
     "slide_type": "subslide"
    }
   },
   "source": [
    "### Let's play!"
   ]
  },
  {
   "cell_type": "code",
   "execution_count": 44,
   "metadata": {
    "collapsed": false,
    "slideshow": {
     "slide_type": "-"
    }
   },
   "outputs": [],
   "source": [
    "soundsc(sum(snd,1), 44100)"
   ]
  },
  {
   "cell_type": "markdown",
   "metadata": {
    "slideshow": {
     "slide_type": "fragment"
    }
   },
   "source": [
    "## Try the code yourself!\n",
    "\n",
    "``MDoF_Modal.m``  $\\,$ available at:  https://github.com/atorin/Dynamics3-Lecture"
   ]
  },
  {
   "cell_type": "markdown",
   "metadata": {
    "slideshow": {
     "slide_type": "slide"
    }
   },
   "source": [
    "## Finite difference approach"
   ]
  },
  {
   "cell_type": "markdown",
   "metadata": {
    "slideshow": {
     "slide_type": "subslide"
    }
   },
   "source": [
    "### Discretise time\n",
    "\n",
    "$$u(t) \\quad \\longrightarrow \\quad u(nk) = u^n,$$ \n",
    "\n",
    "with $n$ integer and $k$ the time step."
   ]
  },
  {
   "cell_type": "markdown",
   "metadata": {
    "slideshow": {
     "slide_type": "fragment"
    }
   },
   "source": [
    "### Recursions\n",
    "\n",
    "Time differentiation becomes recursions: knowing $u^n$ you can calculate $u^{n+1}$."
   ]
  },
  {
   "cell_type": "markdown",
   "metadata": {
    "slideshow": {
     "slide_type": "subslide"
    }
   },
   "source": [
    "### Second difference\n",
    "$$ \\ddot{u} \\quad \\longrightarrow \\quad \\frac{u^{n+1} - 2 u^n + u^{n-1}}{k^2}$$\n",
    "\n",
    "Notice the pattern (1, -2, 1)..."
   ]
  },
  {
   "cell_type": "markdown",
   "metadata": {
    "slideshow": {
     "slide_type": "fragment"
    }
   },
   "source": [
    "### Equation for the mass-spring system"
   ]
  },
  {
   "cell_type": "markdown",
   "metadata": {
    "slideshow": {
     "slide_type": "-"
    }
   },
   "source": [
    "<div class=\"warning\">\n",
    "\n",
    "$$ M \\frac{\\vec{u}^{ n+1} - 2\\vec{u}^{ n} + \\vec{u}^{ n-1}}{k^2} = - \\omega^2 D \\vec{u}^n$$ </div>"
   ]
  },
  {
   "cell_type": "markdown",
   "metadata": {
    "slideshow": {
     "slide_type": "subslide"
    }
   },
   "source": [
    "## Try the code yourself!\n",
    "\n",
    "``MDoF_FD.m``  $\\,$ available at:  https://github.com/atorin/Dynamics3-Lecture"
   ]
  },
  {
   "cell_type": "code",
   "execution_count": 47,
   "metadata": {
    "collapsed": false
   },
   "outputs": [
    {
     "data": {
      "image/png": "[encoded data removed]",
      "text/plain": [
       "<IPython.core.display.Image object>"
      ]
     },
     "metadata": {},
     "output_type": "display_data"
    }
   ],
   "source": [
    "%for II=1:5\n",
    "MDoF_FD \n",
    "%pause(rand)\n",
    "%end"
   ]
  },
  {
   "cell_type": "markdown",
   "metadata": {
    "slideshow": {
     "slide_type": "slide"
    }
   },
   "source": [
    "## Conclusions\n",
    "\n",
    "- We discussed a general method to find the equations of motion of a mass-spring system"
   ]
  },
  {
   "cell_type": "markdown",
   "metadata": {
    "slideshow": {
     "slide_type": "fragment"
    }
   },
   "source": [
    "- We looked at the normal modes and frequencies in the case of large $N$, and compared them with those of a string"
   ]
  },
  {
   "cell_type": "markdown",
   "metadata": {
    "slideshow": {
     "slide_type": "fragment"
    }
   },
   "source": [
    "- We had some fun with basic sound synthesis techniques"
   ]
  },
  {
   "cell_type": "markdown",
   "metadata": {
    "slideshow": {
     "slide_type": "slide"
    }
   },
   "source": [
    "# Thank you for your attention!\n",
    "---\n",
    "![](files/w.png)\n",
    "\n",
    "### Alberto Torin\n",
    "\n",
    "A.Torin@ed.ac.uk\n",
    "\n",
    "Slides and Codes on Github:\n",
    "http://github.com/atorin/Dynamics3-Lecture"
   ]
  }
 ],
 "metadata": {
  "celltoolbar": "Slideshow",
  "kernelspec": {
   "display_name": "Matlab",
   "language": "matlab",
   "name": "matlab_kernel"
  },
  "language_info": {
   "codemirror_mode": "Octave",
   "file_extension": ".m",
   "help_links": [
    {
     "text": "MetaKernel Magics",
     "url": "https://github.com/calysto/metakernel/blob/master/metakernel/magics/README.md"
    }
   ],
   "mimetype": "text/x-matlab",
   "name": "octave"
  }
 },
 "nbformat": 4,
 "nbformat_minor": 0
}
